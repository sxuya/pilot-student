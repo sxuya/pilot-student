{
 "cells": [
  {
   "cell_type": "markdown",
   "metadata": {},
   "source": [
    "# 树"
   ]
  },
  {
   "cell_type": "code",
   "execution_count": 3,
   "metadata": {},
   "outputs": [
    {
     "name": "stdout",
     "output_type": "stream",
     "text": [
      "1\n",
      "3\n"
     ]
    },
    {
     "data": {
      "text/plain": [
       "'r'"
      ]
     },
     "execution_count": 3,
     "metadata": {},
     "output_type": "execute_result"
    }
   ],
   "source": [
    "def test():\n",
    "    print('1')\n",
    "    print('3')\n",
    "    return 'r'\n",
    "    print('2')\n",
    "    \n",
    "test()"
   ]
  },
  {
   "cell_type": "markdown",
   "metadata": {},
   "source": [
    "## 定义问题"
   ]
  },
  {
   "cell_type": "markdown",
   "metadata": {},
   "source": [
    "当我们说“树形结构”的时候，那是从自然界的大树上得到的启发，从根开始不断展开的枝丫，代表了从单一到复杂的一层层展开，在现实世界充满了这样的事物：国家的行政区划（以及任何组织的架构）、电商网站的商品分类、论坛里的板块等等。"
   ]
  },
  {
   "cell_type": "markdown",
   "metadata": {},
   "source": [
    "<img src=\"assets/tree-graph.png\" width=\"700\">"
   ]
  },
  {
   "cell_type": "markdown",
   "metadata": {},
   "source": [
    "> 虽然自然界里树是根在下面而向上分支，但是我们在处理树形结构时，如图这样的从上向下分支更容易画也更容易看。"
   ]
  },
  {
   "cell_type": "markdown",
   "metadata": {},
   "source": [
    "解决问题的第一步是先要清晰明确地定义问题，我们来尝试把我们对树的直觉印象书写成尽可能清晰明确的定义和表述。在一个树形结构里：\n",
    "* 树（*tree*）由节点（*node*）和连接节点的边（*edge*）组成；\n",
    "* 总有一个节点是分支的起点，它分出了所有其他的节点，这个节点叫根节点（*root node*）；\n",
    "* 一个节点分支出来的节点叫它的“子节点（*child nodes*）”，它是其子节点的“父节点（*parent node*）”；上图中节点 A 的父节点是根节点，子节点是 B 和 C，而节点 C 的父节点是 A，子节点是 D 和 E；节点 D 的父节点是 C，而它没有子节点；\n",
    "* 拥有共同父节点的两个节点互为“兄弟姐妹（*sibling nodes*）”；比如上图中 B 和 C，D 和 E；\n",
    "* 没有子节点的节点也叫“叶子节点（*leaf node*）”；比如上图中的 D 和 E；\n",
    "* 一个节点的父节点，以及父节点的父节点…直至根节点，都是这个节点的“祖先节点（*ancestor nodes*）”；比如上图中 E 的祖先节点包括 C、A 和 根节点；\n",
    "* 一个节点的所有子节点，以及所有子节点的子节点…直至叶子节点，都是这个节点的“后代节点（*descendant nodes*）”；\n",
    "* 一个节点 X 和它所有后代节点、以及这些节点之间的边，也组成一棵树，叫做原数的一棵（以 X 为根的）“子树（*sub-tree*）”；\n",
    "* 根节点没有父节点也没有祖先节点；\n",
    "* 除了根节点以外的任何节点，有且只有 1 个父节点，有至少 1 个祖先节点；\n",
    "* 任何节点都可以有 0、1 或者多个子节点，可以有  0、1 或者多个后代节点；\n",
    "* 一个节点和它的任一祖先或者后代节点之间，一定存在一条由边收尾连接组成的路径（*path*），比如上图中根节点是 E 的祖先，它们之间的路径是 `root -> A -> C -> E`；这个路径就像是两个节点之间的亲属关系链；\n",
    "* 两个节点之间 *path* 的长度，就是它由几条边组成，决定了这两个节点之间隔了多少“代”，也叫节点之间的“距离（*distance*）”；\n",
    "* 一个节点和根节点之间的 *distance* 经常有特别的含义，相当于该节点在树的“第几层级（*tier*）”；比如在行政区划里哪些是一级节点（省、直辖市、自治区）哪些是二级节点等；\n",
    "* 有些树里节点的子节点是有顺序的，叫做“有序树（*ordered tree*）”；如果我们不特别指出，那就是不考虑这种顺序概念。\n",
    "\n",
    "上面这种“把直觉规则化”的过程，对后面设计解决方案是至关重要的，大家可以自己尝试，多多体会。\n",
    "\n",
    "> 事实上在数学图论里有对树的[更严谨更数学化的定义](https://en.wikipedia.org/wiki/Tree_(graph_theory))，不过上面的表述对目前的我们来说基本够用了。"
   ]
  },
  {
   "cell_type": "markdown",
   "metadata": {},
   "source": [
    "## 分析操作场景"
   ]
  },
  {
   "cell_type": "markdown",
   "metadata": {},
   "source": [
    "可以看到树和我们前面讲的所有数据结构都不一样，没办法用一种“线性（*linear*）”结构来表达，如何在计算机中实现一个树形数据结构？面对这样的问题，我们应该如何思考呢？\n",
    "\n",
    "一个优秀的起点是问题解决的一半。设计数据结构的起点是：**思考我们会怎么操作和使用这个数据结构**。\n",
    "\n",
    "假定我们已经有个一个树形数据结构，我们可能会有这些操作场景（可以尝试用行政区划或者论坛版块等熟悉的实例来帮助思考）：\n",
    "* 查找和遍历：\n",
    "  * 给定一个 *node* 找出它的 *parent* ✪\n",
    "  * 给定一个 *node* 找出它所有的 *children* ✪\n",
    "  * 给定一个 *node* 找出它某个特定 *child*\n",
    "  * 给定一个 *node* 找出它所有的 *siblings*\n",
    "  * 给定一个 *node* 遍历其 *sub-tree* 即找出它的所有 *descendants* ✪\n",
    "  * 给定 *node* *A* 和 *B*，找到 *A* 和 *B* 之间的 *path* 和 *distance*\n",
    "  * 给定一个 *node* 确定它的 *tier*\n",
    "* 编辑\n",
    "  * 给一个 *node* 增加一个 *child* ✪\n",
    "  * 删除一个 *node* ✪ -> 新一步思考：这意味着什么？删除整个子树还是？\n",
    "  * 修改一个 *node* 的 *parent* ✪\n",
    "\n",
    "差不多就这些，其中标记了 ✪ 号的是感觉特别重要和基础的操作。\n",
    "\n",
    "通过形象化的图示、对基本概念的定义和表述、对可能操作场景的罗列，已经增加了很多我们对问题理解的深度和全面度，下来我们可以尝试做出一些初步设计判断了。"
   ]
  },
  {
   "cell_type": "markdown",
   "metadata": {},
   "source": [
    "## 设计初步方案"
   ]
  },
  {
   "cell_type": "markdown",
   "metadata": {},
   "source": [
    "从前面的分析，我们可以有这么一些收获：\n",
    "* 树中节点之间的父子关系是核心和本质的内容；\n",
    "* 表达这种父子关系的关键是节点，节点应保存父节点和子节点相关信息；\n",
    "* 树的结构上带有显著的“递归”特点，可以有助于我们的设计。\n",
    "\n",
    "如果你不记得“递归（*recursion*，*recursive*）”是怎么回事了，可以温习[递归函数](p2-4-recursion.ipynb)一章。\n",
    "\n",
    "树也是递归的一个典型例子，因为一棵树可以看做由**根节点、根节点的子节点和以这些子节点为根的子树**合起来组成的，如果我们想实现对树进行操作的函数 `f()`，那么我们可以让这个函数接受一个树的根节点作为输入参数，这个函数大致上会是这个样子：\n",
    "\n",
    "```python\n",
    "def f(root):\n",
    "    # 对 root 做一些操作\n",
    "    # 然后取出 root 的所有子节点，对其中每个子节点调用 f() 本身\n",
    "    for node in root.children:\n",
    "        f(node)\n",
    "```\n",
    "\n",
    "也就是说，我们只要对某个节点做操作，然后获取这个节点的所有子节点，递归调用自己，就能对整个树做操作了。\n",
    "\n",
    "在树形数据结构中，“获取一个节点的所有子节点”是至关重要的操作。\n",
    "\n",
    "据此我们可以做出这么一个初步的设计："
   ]
  },
  {
   "cell_type": "code",
   "execution_count": null,
   "metadata": {},
   "outputs": [],
   "source": [
    "# 请在这里输入代码\n",
    "class TreeNode:\n",
    "    def __init__(self, name='root', data=None, parent=None, chilren=None):\n",
    "        self.name = name\n",
    "        self.data = data\n",
    "        \n",
    "        if parent:\n",
    "            # 确认 parent 参数是 TreeNode 类型\n",
    "            assert isinstance(parent, TreeNode)\n",
    "            parent.add_child(self)\n",
    "        self.patent = parent\n",
    "        \n",
    "        self.children = []\n",
    "        if children:\n",
    "            for chil in children:\n",
    "                self.add_child(child)\n",
    "                \n",
    "    def add_child(self, node):\n",
    "        # 1. 确认 node 参数是 TreeNode 类型\n",
    "        # 2. 将要加入的子节点的 parent 属性设为自己\n",
    "        # 3. 然后将其加入 children 列表\n",
    "        assert isinstance(node, TreeNode)\n",
    "        node.parent = self\n",
    "        self.children.append(node)"
   ]
  },
  {
   "cell_type": "code",
   "execution_count": null,
   "metadata": {},
   "outputs": [],
   "source": [
    "# 不时比对的结果。\n",
    "class TreeNode:\n",
    "    def __init__(self, name='root', data=None, parent=None, children=None):\n",
    "        self.name = name\n",
    "        self.data = data\n",
    "        \n",
    "        if parent:\n",
    "            assert isinstance(parent, TreeNode)\n",
    "            parent.add_child(self)\n",
    "        self.parent = parent\n",
    "        \n",
    "        self.children = []\n",
    "        if children:\n",
    "            for child in children:\n",
    "                self.add_child(child)\n",
    "                \n",
    "    def add_child(self, node):\n",
    "        assert isinstance(node, TreeNode)\n",
    "        node.parent = self\n",
    "        self.children.append(node)"
   ]
  },
  {
   "cell_type": "code",
   "execution_count": null,
   "metadata": {},
   "outputs": [],
   "source": []
  },
  {
   "cell_type": "code",
   "execution_count": 100,
   "metadata": {},
   "outputs": [
    {
     "name": "stdout",
     "output_type": "stream",
     "text": [
      "2\n"
     ]
    }
   ],
   "source": [
    "def test2():\n",
    "    l = []\n",
    "    for i in l:\n",
    "        return 1\n",
    "    else:\n",
    "        return 2\n",
    "        \n",
    "print(test2())"
   ]
  },
  {
   "cell_type": "code",
   "execution_count": 89,
   "metadata": {},
   "outputs": [],
   "source": [
    "# 自己理解后，进行总结后，自己单纯自己写的版本：\n",
    "class TreeNode:\n",
    "    def __init__(self, name='root', data=None, parent=None, children=None):\n",
    "        self.name = name\n",
    "        self.data = data\n",
    "        \n",
    "        if parent:  # 这里是根节点的特点\n",
    "            assert isinstance(parent, TreeNode)\n",
    "            parent.add_child(self)\n",
    "        self.parent = parent  # 这个是第二次没有想到的\n",
    "            \n",
    "        self.children = []\n",
    "        if children:  # 这里是最后一片叶子的特点。头、尾是有单独的特点的。\n",
    "            for child in children:\n",
    "                assert isinstance(child, TreeNode)  # 这个是我结合上面 parent 的特点，添加上去的。\n",
    "                self.add_child(child)\n",
    "                \n",
    "#         self.children = []\n",
    "#         这个是第二次自己尝试的版本\n",
    "#         for child in children:\n",
    "#             assert isinstance(child, TreeNode)\n",
    "#             self.add_child(child)\n",
    "    \n",
    "    def add_child(self, node):\n",
    "        assert isinstance(node, TreeNode)\n",
    "        node.parent = self\n",
    "        self.children.append(node)\n",
    "    \n",
    "    def add_children(self, nodes):\n",
    "        for node in nodes:\n",
    "            assert isinstance(node, TreeNode)\n",
    "        for node in nodes:\n",
    "            node.parent = self\n",
    "            self.children.append(node)\n",
    "    \n",
    "    def remove(self, node):\n",
    "        node.parent = None\n",
    "        self.children.remove(node)\n",
    "    \n",
    "    def move(self, node, new_parent):\n",
    "        node.parent.remove(node)\n",
    "        node.parent = new_parent\n",
    "        new_parent.add_child(node)\n",
    "\n",
    "#     # Version 1\n",
    "#     def find(self, name, notfind = True):\n",
    "#         notfindbool = notfind\n",
    "#         for child in self.children:\n",
    "#             if child.name == name:\n",
    "#                 print(child.data['tag'])\n",
    "#                 notfindbool = False\n",
    "#             child.find(name, notfindbool)\n",
    "#         if notfindbool:\n",
    "#             print('not find')\n",
    "    \n",
    "    # Version 2\n",
    "    def find(self, name):\n",
    "        if self.name == name:\n",
    "            return self\n",
    "        \n",
    "        for child in self.children:\n",
    "#             if child.name == name: # version 1\n",
    "#                 return child\n",
    "#             child.find(name)\n",
    "#             if child.find(name):  # version 2  # 相当于在 if 里面一直寻找，递归寻找之后得到正确，就回到这一层，没有传递下去。\n",
    "#                 return child\n",
    "            t = child.find(name)\n",
    "            if t:\n",
    "                return t\n",
    "        else:\n",
    "            return None\n",
    "        \n",
    "# 总结一下：\n",
    "# 递归的基本形式就是：\n",
    "\n",
    "# def func(self):\n",
    "#     做递归的元操作\n",
    "#     for item in items:\n",
    "#         item.func()\n",
    "        \n",
    "# 2020年2月20日 22:28:51\n",
    "\n",
    "    def get_siblings(self, name):\n",
    "        thisNode = self.find(name)\n",
    "        thisParent = thisNode.parent\n",
    "        siblings = []\n",
    "        for child in thisParent.children:\n",
    "            if child.name != name:\n",
    "                siblings.append(child)\n",
    "        return siblings\n",
    "        \n",
    "    def get_descendants(self, name):\n",
    "        node = self.find(name)\n",
    "        node.print_tree()\n",
    "        \n",
    "#         # version 2\n",
    "#         node = self.find(name)\n",
    "#         descendants = []\n",
    "        \n",
    "#         for child in node.children:\n",
    "#             descendants.append(child)\n",
    "#             descendants.append(child.get_descendants(child.name))\n",
    "            \n",
    "#         return descendants\n",
    "    \n",
    "#         思考：\n",
    "#         如果是 root，没有区别；\n",
    "#         如果是最后一个，需要返回 None\n",
    "#         如果是中间的，那么和 root 没有区别。\n",
    "#         找到 child，找到 child 的 child，一直下去，直到是最后一个。\n",
    "        \n",
    "        \n",
    "#         # version 1\n",
    "#         descendants = []\n",
    "#         this_node = self.find(name)\n",
    "        \n",
    "#         for child in this_node.children:\n",
    "#             descendants.append(child)\n",
    "#             if child.children:\n",
    "#                 child.get_descendants(name)\n",
    "#         else:\n",
    "#             return descendants\n",
    "    \n",
    "    def get_tier(self, name, tier=0):\n",
    "        if self.name == name:\n",
    "            return tier\n",
    "        \n",
    "        for child in self.children:\n",
    "            t = child.get_tier(name, tier+1)\n",
    "            if t:\n",
    "                return t  # 把 tier+1 改成 t，前面都对，但是 最后一层会返回 None，why？\n",
    "        else:\n",
    "            return None # 最后一层报错，是因为这里写的是 ‘not exit’，然后就真的在最后一层判断的时候，返回这个了。。。为什么改成 None 就好了呢？\n",
    "        \n",
    "#         # version 1\n",
    "#         if self.children:\n",
    "#             for child in self.children:\n",
    "#                 if child.name == name:\n",
    "#                     return tier+1\n",
    "#                 child.get_tier(name, tier+1)\n",
    "    \n",
    "    # Version 4\n",
    "    # 虽然一次性把课程的范例修改了过来，感觉很神奇，自己能够把不同位置的 code 进行转化\n",
    "    # 更加没有理清楚其中的逻辑。\n",
    "    # 冥冥中感觉关键是之前逻辑的考虑：开头 和 结尾 是不同的形式，所以要单独考虑。也就是在 print_tree 里面进行了区别对待 self 和 它的 children\n",
    "    # 在 _print_tree 里面区别对待了 children 里面的最后一个。\n",
    "    def _print_tree(self, _prefix='', _last=True):\n",
    "        print(''.join([_prefix, '┗━━' if _last else '┣━━', self.name]))\n",
    "        _prefix += '   ' if _last else '┃  '\n",
    "        count = len(self.children)\n",
    "        for n, node in enumerate(self.children):\n",
    "            _last = n==(count-1)\n",
    "            node._print_tree(_prefix, _last)\n",
    "            \n",
    "    def print_tree(self):\n",
    "        print(self.name)\n",
    "        for node in self.children[:-1]:\n",
    "            node._print_tree(_last = False)\n",
    "        self.children[-1]._print_tree(_last=True)\n",
    "        \n",
    "    \n",
    "#     # Version 3\n",
    "#     # 【不太能理解 递归的操作】\n",
    "#     def print_tree(self, _prefix = '', _last = True):\n",
    "# #         print(_prefix, '┗━━' if _last and self.name != 'root' else '┣━━', self.name, sep='')\n",
    "#         print(_prefix, '┗━━' if _last else '┣━━', self.name, sep='')\n",
    "#         _prefix += '   ' if _last else '┃  '\n",
    "#         count = len(self.children)\n",
    "#         for n, node in enumerate(self.children):\n",
    "#             _last = n == (count - 1)\n",
    "#             node.print_tree(_prefix, _last)\n",
    "\n",
    "#     # Version 2\n",
    "#     def print_tree(self, tier = 0):\n",
    "#         prefix = \"┃  \" * (tier-1) + '┣━━' if tier>0 else ''  # tier 要改成 (tier-1)，不然会有棈一竖列多余的丨 \n",
    "#         print(prefix + self.name)\n",
    "#         if self.children:\n",
    "#             for node in self.children:\n",
    "#                 node.print_tree(tier+1)\n",
    "    \n",
    "#     # Version 1\n",
    "#     def print_tree(self, tier=0):\n",
    "#         prefix = '  ' * tier\n",
    "#         print(prefix + self.name)\n",
    "#         if self.children:  # 错误：按照 2020-01-21 的课程输入，发现不对，感觉应该改成 self，但是这里好几遍没有改进来\n",
    "#             for node in self.children:  # 上面一行改了，但是这一行又是在后面一次改过来了\n",
    "#                 node.print_tree(tier+1)  # 这是最后改成功的地方：这个 error 是最容易修改的，提示直接是 argu 多了，那就知道要把括号里面（node, tier+1）的 node 删掉，然后就出来结果了\n",
    "                \n",
    "#     下面是 2020-01-21 的课程的 Version 1：\n",
    "#     def print_tree(root, tier=0):\n",
    "#         prefix = ' ' * (tier - 1)\n",
    "#         print(prefix + root.name)\n",
    "#         if root.children and len(root.children):\n",
    "#             for node in root.children:\n",
    "#                 print_tree(node, tier + 1)\n",
    "    "
   ]
  },
  {
   "cell_type": "code",
   "execution_count": 90,
   "metadata": {},
   "outputs": [],
   "source": [
    "root = TreeNode('中国', {'name':'习近平', 'age':5000, 'capitals':'Beijing'})"
   ]
  },
  {
   "cell_type": "code",
   "execution_count": 91,
   "metadata": {},
   "outputs": [],
   "source": [
    "a1 = TreeNode('北京', {'tag':'a1', 'name':'BeiJing', 'age':18, 'level':1})\n",
    "a2 = TreeNode('上海', {'tag':'a2', 'name':'ShangHai', 'age':17, 'level':1})\n",
    "a3 = TreeNode('广东', {'tag':'a3', 'name':'GuangZhou', 'age':10, 'level':1})\n",
    "a4 = TreeNode('浙江', {'tag':'a4', 'name':'ShenZhen', 'age':8, 'level':1})\n",
    "a5 = TreeNode('天津', {'tag':'a5'})\n",
    "# a6 = TreeNode('黑龙江', {'tag':'a6'})\n",
    "# a7 = TreeNode('吉林', {'tag':'a7'})\n",
    "# a8 = TreeNode('辽宁', {'tag':'a8'})\n",
    "# a9 = TreeNode('河北', {'tag':'a9'})\n",
    "# a10 = TreeNode('河南', {'tag':'a10'})\n",
    "# a11 = TreeNode('江西', {'tag':'a11'})\n",
    "# a12 = TreeNode('山东', {'tag':'a12'})\n",
    "# a13 = TreeNode('山西', {'tag':'a13'})\n",
    "# a14 = TreeNode('陕西', {'tag':'a14'})\n",
    "# a15 = TreeNode('湖北', {'tag':'a15'})\n",
    "# a16 = TreeNode('湖南', {'tag':'a16'})\n",
    "# a17 = TreeNode('甘肃', {'tag':'a17'})\n",
    "# a18 = TreeNode('贵州', {'tag':'a18'})\n",
    "# a19 = TreeNode('云南', {'tag':'a19'})\n",
    "# a20 = TreeNode('广西', {'tag':'a20'})\n",
    "# a21 = TreeNode('西藏', {'tag':'a21'})\n",
    "# a22 = TreeNode('内蒙古', {'tag':'a22'})\n",
    "# a23 = TreeNode('新疆', {'tag':'a23'})\n",
    "# a24 = TreeNode('香港', {'tag':'a24'})\n",
    "# a25 = TreeNode('澳门', {'tag':'a25'})\n",
    "# a26 = TreeNode('台湾', {'tag':'a26'})\n",
    "# a27 = TreeNode('重庆', {'tag':'a27'})\n",
    "# a28 = TreeNode('福建', {'tag':'a28'})\n",
    "# a29 = TreeNode('海南', {'tag':'a29'})\n",
    "# a30 = TreeNode('四川', {'tag':'a30'})\n",
    "# a31 = TreeNode('青海', {'tag':'a31'})\n",
    "# a32 = TreeNode('宁夏', {'tag':'a32'})\n",
    "# a33 = TreeNode('江苏', {'tag':'a33'})\n",
    "# a34 = TreeNode('安徽', {'tag':'a34'})\n",
    "\n",
    "# aJihe = []\n",
    "# for i in range(34):\n",
    "#     num = str(i+1)\n",
    "#     ai = 'a'+ num\n",
    "#     aJihe.append(ai)\n",
    "    \n",
    "# root.add_children(aJihe)\n",
    "# root.add_children([a1, a2, a3, a4, a5, a6, a7, a8, a9, a10, a11, a12, a13, a14, a15, a16, a17, a18, a19, a20, a21, a22, a23, a24, a25, a26, a27, a28, a29, a30, a31, a32, a33, a34])\n",
    "root.add_children([a1, a2, a3, a4, a5])\n",
    "# root.add_child(a1)\n",
    "# root.add_child(a2)\n",
    "# root.add_child(a3)\n",
    "# root.add_child(a4)"
   ]
  },
  {
   "cell_type": "code",
   "execution_count": 92,
   "metadata": {},
   "outputs": [
    {
     "data": {
      "text/plain": [
       "5"
      ]
     },
     "execution_count": 92,
     "metadata": {},
     "output_type": "execute_result"
    }
   ],
   "source": [
    "shengfen = []\n",
    "for child in root.children:\n",
    "    shengfen.append(child.name)\n",
    "shengfen_set = set(shengfen)\n",
    "len(shengfen_set)\n",
    "\n",
    "# 寻找哪个是重复的 code，添加‘海南’\n",
    "# for i in range(34):\n",
    "#     for j in range(i, 34):\n",
    "#         if shengfen[i] == shengfen[j]:\n",
    "#             print(i, j)"
   ]
  },
  {
   "cell_type": "code",
   "execution_count": 93,
   "metadata": {},
   "outputs": [],
   "source": [
    "b11 = TreeNode('朝阳区', {'tag':'b11', 'name':'chaoyangqu', 'number':1000})\n",
    "b12 = TreeNode('海淀区', {'tag':'b12', 'name':'haidingqu', 'number':1200})\n",
    "b13 = TreeNode('天安门', {'tag':'b13', 'name':'tianojmenqu', 'number':0})\n",
    "\n",
    "b21 = TreeNode('浦东区', {'tag':'b21', 'name':'hongqiao', 'number':900})\n",
    "b22 = TreeNode('蒲西区', {'tag':'b22', 'name':'nanjinglu', 'number':800})\n",
    "b23 = TreeNode('南京路', {'tag':'b23', 'name':'pudongqu', 'number':999})\n",
    "\n",
    "b31 = TreeNode('广州', {'tag':'b31', 'name':'yuexiu', 'number':2000})\n",
    "b32 = TreeNode('深圳', {'tag':'b32', 'name':'tianhe', 'number':1900})\n",
    "b33 = TreeNode('东莞', {'tag':'b33', 'name':'liwan', 'number':1500})\n",
    "\n",
    "b41 = TreeNode('杭州', {'tag':'b41', 'name':'huaweiqu', 'number':300})\n",
    "b42 = TreeNode('宁波', {'tag':'b42', 'name':'tencent', 'number':251})\n",
    "b43 = TreeNode('温州', {'tag':'b43', 'name':'dajiang', 'number':120})\n",
    "\n",
    "c111 = TreeNode('小区1', {'tag':'c111', 'xcvh':'vhbhxn', 'fuxcvh':'xcm;'})\n",
    "c112 = TreeNode('小区2', {'tag':'c112', 'hbqnvugr':'days', 'fuhbqnvugr':'xcys'})"
   ]
  },
  {
   "cell_type": "code",
   "execution_count": 94,
   "metadata": {},
   "outputs": [],
   "source": [
    "a1.add_children([b11, b12, b13])\n",
    "# a1.add_child(b11)\n",
    "# a1.add_child(b12)\n",
    "# a1.add_child(b13)\n",
    "b11.add_children([c111, c112])\n",
    "a2.add_children([b21, b22, b23])\n",
    "a3.add_children([b31, b32, b33])\n",
    "a4.add_children([b41, b42, b43])"
   ]
  },
  {
   "cell_type": "code",
   "execution_count": 96,
   "metadata": {},
   "outputs": [
    {
     "name": "stdout",
     "output_type": "stream",
     "text": [
      "2\n"
     ]
    }
   ],
   "source": [
    "print(root.get_tier('南京路'))"
   ]
  },
  {
   "cell_type": "code",
   "execution_count": 39,
   "metadata": {},
   "outputs": [
    {
     "name": "stdout",
     "output_type": "stream",
     "text": [
      "中国\n",
      "┣━━北京\n",
      "┃  ┣━━朝阳区\n",
      "┃  ┃  ┣━━小区1\n",
      "┃  ┃  ┗━━小区2\n",
      "┃  ┣━━海淀区\n",
      "┃  ┗━━天安门\n",
      "┣━━上海\n",
      "┃  ┣━━浦东区\n",
      "┃  ┣━━蒲西区\n",
      "┃  ┗━━南京路\n",
      "┣━━广东\n",
      "┃  ┣━━广州\n",
      "┃  ┣━━深圳\n",
      "┃  ┗━━东莞\n",
      "┣━━浙江\n",
      "┃  ┣━━杭州\n",
      "┃  ┣━━宁波\n",
      "┃  ┗━━温州\n",
      "┗━━天津\n"
     ]
    }
   ],
   "source": [
    "root.print_tree()"
   ]
  },
  {
   "cell_type": "code",
   "execution_count": 9,
   "metadata": {},
   "outputs": [
    {
     "name": "stdout",
     "output_type": "stream",
     "text": [
      "北京\n",
      "┣━━朝阳区\n",
      "┃  ┣━━小区1\n",
      "┃  ┗━━小区2\n",
      "┣━━海淀区\n",
      "┗━━天安门\n"
     ]
    }
   ],
   "source": [
    "root_descendants = root.get_descendants('北京')"
   ]
  },
  {
   "cell_type": "code",
   "execution_count": 11,
   "metadata": {},
   "outputs": [],
   "source": [
    "# root.move(c111, b13)\n",
    "# root.print_tree()"
   ]
  },
  {
   "cell_type": "code",
   "execution_count": 29,
   "metadata": {},
   "outputs": [
    {
     "name": "stdout",
     "output_type": "stream",
     "text": [
      "海淀区\n",
      "天安门\n"
     ]
    }
   ],
   "source": [
    "siblings = root.get_siblings('朝阳区')\n",
    "for sibling in siblings:\n",
    "    print(sibling.name)"
   ]
  },
  {
   "cell_type": "code",
   "execution_count": 50,
   "metadata": {},
   "outputs": [
    {
     "name": "stdout",
     "output_type": "stream",
     "text": [
      "c111\n"
     ]
    }
   ],
   "source": [
    "print(root.find('小区1').data['tag'])"
   ]
  },
  {
   "cell_type": "code",
   "execution_count": 51,
   "metadata": {},
   "outputs": [
    {
     "name": "stdout",
     "output_type": "stream",
     "text": [
      "a4\n"
     ]
    }
   ],
   "source": [
    "print(root.find('浙江').data['tag'])  # 第一层是 root，这个是第二层（省份）的一个\n",
    "root.find('小区2')  # 这个是第三层的随便的内容\n",
    "root.find('bala') # 这个是没有的，"
   ]
  },
  {
   "cell_type": "code",
   "execution_count": null,
   "metadata": {},
   "outputs": [],
   "source": []
  },
  {
   "cell_type": "code",
   "execution_count": 69,
   "metadata": {},
   "outputs": [
    {
     "name": "stdout",
     "output_type": "stream",
     "text": [
      "中国\n",
      "┣━━北京\n",
      "┃  ┣━━朝阳区\n",
      "┃  ┃  ┣━━小区1\n",
      "┃  ┃  ┗━━小区2\n",
      "┃  ┣━━海淀区\n",
      "┃  ┗━━天安门\n",
      "┣━━上海\n",
      "┃  ┣━━浦东区\n",
      "┃  ┣━━蒲西区\n",
      "┃  ┗━━南京路\n",
      "┣━━广东\n",
      "┃  ┣━━广州\n",
      "┃  ┣━━深圳\n",
      "┃  ┗━━东莞\n",
      "┣━━浙江\n",
      "┃  ┣━━杭州\n",
      "┃  ┣━━宁波\n",
      "┃  ┗━━温州\n",
      "┣━━天津\n",
      "┣━━黑龙江\n",
      "┣━━吉林\n",
      "┣━━辽宁\n",
      "┣━━河北\n",
      "┣━━河南\n",
      "┣━━江西\n",
      "┣━━山东\n",
      "┣━━山西\n",
      "┣━━陕西\n",
      "┣━━湖北\n",
      "┣━━湖南\n",
      "┣━━甘肃\n",
      "┣━━贵州\n",
      "┣━━云南\n",
      "┣━━广西\n",
      "┣━━西藏\n",
      "┣━━内蒙古\n",
      "┣━━新疆\n",
      "┣━━香港\n",
      "┣━━澳门\n",
      "┣━━台湾\n",
      "┣━━重庆\n",
      "┣━━福建\n",
      "┣━━海南\n",
      "┣━━四川\n",
      "┣━━青海\n",
      "┣━━宁夏\n",
      "┣━━江苏\n",
      "┣━━安徽\n",
      "┗━━American\n"
     ]
    }
   ],
   "source": [
    "a35 = TreeNode('American', {})\n",
    "root.add_child(a35)\n",
    "root.print_tree()"
   ]
  },
  {
   "cell_type": "code",
   "execution_count": 71,
   "metadata": {},
   "outputs": [
    {
     "name": "stdout",
     "output_type": "stream",
     "text": [
      "中国\n",
      "┣━━北京\n",
      "┃  ┣━━朝阳区\n",
      "┃  ┃  ┣━━小区1\n",
      "┃  ┃  ┗━━小区2\n",
      "┃  ┣━━海淀区\n",
      "┃  ┗━━天安门\n",
      "┣━━上海\n",
      "┃  ┣━━浦东区\n",
      "┃  ┣━━蒲西区\n",
      "┃  ┗━━南京路\n",
      "┣━━广东\n",
      "┃  ┣━━广州\n",
      "┃  ┣━━深圳\n",
      "┃  ┗━━东莞\n",
      "┣━━浙江\n",
      "┃  ┣━━杭州\n",
      "┃  ┣━━宁波\n",
      "┃  ┗━━温州\n",
      "┣━━天津\n",
      "┣━━黑龙江\n",
      "┣━━吉林\n",
      "┣━━辽宁\n",
      "┣━━河北\n",
      "┣━━河南\n",
      "┣━━江西\n",
      "┣━━山东\n",
      "┣━━山西\n",
      "┣━━陕西\n",
      "┣━━湖北\n",
      "┣━━湖南\n",
      "┣━━甘肃\n",
      "┣━━贵州\n",
      "┣━━云南\n",
      "┣━━广西\n",
      "┣━━西藏\n",
      "┣━━内蒙古\n",
      "┣━━新疆\n",
      "┣━━香港\n",
      "┣━━澳门\n",
      "┣━━台湾\n",
      "┣━━重庆\n",
      "┣━━福建\n",
      "┣━━海南\n",
      "┣━━四川\n",
      "┣━━青海\n",
      "┣━━宁夏\n",
      "┣━━江苏\n",
      "┗━━安徽\n"
     ]
    }
   ],
   "source": [
    "root.add_child(a34)\n",
    "root.remove(a35)\n",
    "root.print_tree()"
   ]
  },
  {
   "cell_type": "markdown",
   "metadata": {},
   "source": [
    "### 理解-sxuya\n",
    "1. 验证两步：parent 和 children\n",
    "2. 每个验证都要先确认是不是一致的数据结构；\n",
    "3. 如果是，则进行关系的添加。（parent 节点只有一个，而 children 很多，所以使用 list 来创建）\n",
    "4. 无论是添加 parent 还是添加 children，其实都是两个建立关系，一定是一个是 parent、一个是 children，所以，添加 parent 还是添加 children，其实本质的方法是一样的。\n",
    "5. add_child 这个方法的名字有点让初学者费解，更好的理解应该就是「建立 parent-child 联系」。"
   ]
  },
  {
   "cell_type": "markdown",
   "metadata": {},
   "source": [
    "我们设计的核心数据结构是表示树节点的自定义类型 TreeNode，这个类型的对象有四个实例变量（属性）：\n",
    "* *name*：节点的名字，最好能唯一标识出一个节点\n",
    "* *data*：节点相关的任何数据，可以是任何数据类型\n",
    "* *parent*：节点的父节点，如果没有父节点就是 None\n",
    "* *children*：节点所有子节点组成的一个列表\n",
    "\n",
    "这里面 *parent* 和 *children* 里的元素都必须是 TreeNode 类型的对象，我们在处理这两个属性时要先确认这一点，在上面的代码中我们用 Python 的 `assert` 语句和 `isinstance()` 函数来实现：\n",
    "* `assert` 关键字后面的表达式必须返回 True，否则程序将抛出 `AssertionError` 异常后终止；\n",
    "* `isinstance(obj, type)` 之前我们就介绍过，它接受两个参数，第一个参数是一个对象，而第二个参数是一个类型，函数判断第一个参数是不是第二个参数指明的类型，如果是返回 `True`，否则返回 `False`。\n",
    "\n",
    "如上定义的 `TreeNode` 类，它实例化出来的对象 `node` 具备如下的能力：\n",
    "* 很容易取得其父节点 *parent*；\n",
    "* 很容易取得其所有子节点 *children*；\n",
    "* 已经实现了增加子节点的操作。\n",
    "\n",
    "最有意思的是，TreeNode 类型实际上也代表了树本身，因为一个节点加上它所有子节点，本来就是一棵树嘛！\n",
    "\n",
    "在这个类型定义的基础上，我们可以实现前一节列出的所有操作，你可以把这作为练习动手试一试。\n",
    "\n",
    "> 在实际项目中，我们并不需要定义树的数据结构，因为有优秀的第三方实现可用，比如 Python 非常棒的第三方库 [anytree](https://anytree.readthedocs.io/en/latest/#)，你可以试试，看和你自己实现的有什么区别。"
   ]
  },
  {
   "cell_type": "markdown",
   "metadata": {},
   "source": [
    "## 小结"
   ]
  },
  {
   "cell_type": "markdown",
   "metadata": {},
   "source": [
    "这一章介绍非常常见的树形逻辑怎么实现。没有很多代码，主要讲的是思维方法，请你读完一遍之后尝试自己从头思考和建立一个基本的树的数据结构，如果遇到问题就再读一遍。"
   ]
  }
 ],
 "metadata": {
  "kernelspec": {
   "display_name": "Python 3",
   "language": "python",
   "name": "python3"
  },
  "language_info": {
   "codemirror_mode": {
    "name": "ipython",
    "version": 3
   },
   "file_extension": ".py",
   "mimetype": "text/x-python",
   "name": "python",
   "nbconvert_exporter": "python",
   "pygments_lexer": "ipython3",
   "version": "3.7.1"
  }
 },
 "nbformat": 4,
 "nbformat_minor": 4
}
