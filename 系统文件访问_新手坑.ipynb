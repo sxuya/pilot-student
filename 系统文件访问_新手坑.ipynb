{
 "cells": [
  {
   "cell_type": "markdown",
   "metadata": {},
   "source": [
    "# 系统文件访问"
   ]
  },
  {
   "cell_type": "markdown",
   "metadata": {},
   "source": [
    "**备注：新手遇到的坑。**"
   ]
  },
  {
   "cell_type": "markdown",
   "metadata": {},
   "source": [
    "## 坑1：文件目录分隔符"
   ]
  },
  {
   "cell_type": "markdown",
   "metadata": {},
   "source": [
    "### 问题/现状\n",
    "\n",
    "Windows，是反斜杠 \\，powershell 会自动把正斜杠 / 转化成反斜杠 \\。\n",
    "\n",
    "其他的操作系统，使用正斜杠 /。\n",
    "\n",
    "Python 里面，反斜杠 \\ 是转义符的意思，\\n 是换行的意思。"
   ]
  },
  {
   "cell_type": "markdown",
   "metadata": {},
   "source": [
    "### 好的事情\n",
    "\n",
    "Python3 里面的 pathlib 完美处理这个问题，但是 Python2 不行。"
   ]
  },
  {
   "cell_type": "markdown",
   "metadata": {},
   "source": [
    "## 坑2：当前工作路径\n",
    "\n",
    "```.``` 代表当前路径，比如 ./xxx/xxx/.../file.name\n",
    "\n",
    "```..``` 代表当前目录的父目录\n",
    "\n",
    "~ 代表用户的目录，Windows 下代表是 C:\\Users\\yeray\n"
   ]
  }
 ],
 "metadata": {
  "kernelspec": {
   "display_name": "python3.7.1",
   "language": "python",
   "name": "python3.7.1"
  },
  "language_info": {
   "codemirror_mode": {
    "name": "ipython",
    "version": 3
   },
   "file_extension": ".py",
   "mimetype": "text/x-python",
   "name": "python",
   "nbconvert_exporter": "python",
   "pygments_lexer": "ipython3",
   "version": "3.7.1"
  },
  "toc-autonumbering": true,
  "toc-showcode": false,
  "toc-showmarkdowntxt": false,
  "toc-showtags": false
 },
 "nbformat": 4,
 "nbformat_minor": 2
}
