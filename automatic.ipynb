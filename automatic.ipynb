{
 "cells": [
  {
   "cell_type": "markdown",
   "metadata": {},
   "source": [
    "# 费用报销单的合并"
   ]
  },
  {
   "cell_type": "markdown",
   "metadata": {},
   "source": [
    "## 思路"
   ]
  },
  {
   "cell_type": "markdown",
   "metadata": {},
   "source": [
    "### 初步思路\n",
    "\n",
    "1. read a set of files from a directory（使用 Python 在系统文件里面寻找文件）\n",
    "2. read and write Excel format.\n",
    "3. design a data structure in Python\n",
    "4. design a summary format and write Excel file\n",
    "5. email the summary file to someone."
   ]
  },
  {
   "cell_type": "markdown",
   "metadata": {},
   "source": [
    "### 思路分析\n",
    "1. read a set of files from a directory - 是很常用的操作，应该一定有标准化做法\n",
    "2. read and write Excel format.\n",
    "3. design a data structure in Python - 第一阶段一直学习的，比较有把握\n",
    "4. design a summary format and write Excel file\n",
    "5. email the summary file to someone. - 是很常用的操作，应该一定有标准做法"
   ]
  },
  {
   "cell_type": "markdown",
   "metadata": {},
   "source": [
    "### 思考补充\n",
    "\n",
    "- 不能太细  \n",
    "不然会陷进去，无法继续思考\n",
    "\n",
    "- 不能太粗  \n",
    "比如，步骤1、2是两个类似、但是完全不同纬度的操作，步骤1是标准化的，步骤2是有一定特定文件的特性。步骤2如果实在不行，可以让同事改用其他文件进行输入。\n",
    "\n",
    "- 合并  \n",
    "步骤2、4类似，相当于就是一样的操作。  \n",
    "即：\n",
    "    1. read a set of files from a directory - 是很常用的操作，应该一定有标准化做法\n",
    "    2. read and write Excel format.\n",
    "    3. design a data structure in Python - 第一阶段一直学习的，比较有把握\n",
    "    4. email the summary file to someone. - 是很常用的操作，应该一定有标准做法\n",
    "\n",
    "\n",
    "- 解决步骤  \n",
    "先解决2，在1、4，最后在3。会相对容易？"
   ]
  },
  {
   "cell_type": "markdown",
   "metadata": {},
   "source": [
    "## 解决【步骤2】"
   ]
  },
  {
   "cell_type": "markdown",
   "metadata": {},
   "source": [
    "### 设计搜索关键词"
   ]
  },
  {
   "cell_type": "markdown",
   "metadata": {},
   "source": [
    "#### 不好的例子\n",
    "- excel files"
   ]
  },
  {
   "cell_type": "markdown",
   "metadata": {},
   "source": [
    "#### 好的例子\n",
    "- excel data read write python"
   ]
  },
  {
   "cell_type": "markdown",
   "metadata": {},
   "source": [
    "### 初步浏览\n",
    "- 快速浏览，比如寻找不同的链接里面是不是有相同的方法、工具出现，那么这就是很有用的内容了\n",
    "- 完全按照找到的教程进行1：1模仿练习，不用想自己的目的。（很可能会很花时间，但是这是必须的，所有有价值的东西，都是需要代价的）\n",
    "- 到了熟悉后，就不用在练习代码了，可能看一下就知道怎么回事了。\n",
    "- 找不到方法，99% 可能是自己拆解的问题、分析问题有错误，需要重新调整 Keyword"
   ]
  },
  {
   "cell_type": "markdown",
   "metadata": {},
   "source": [
    "#### 浏览例子后的第二遍关键词\n",
    "- Pandas read Excel\n",
    "- python Pandas vs openpyxl（找到大致的方法后，就是寻找哪个方法更好）"
   ]
  },
  {
   "cell_type": "markdown",
   "metadata": {},
   "source": [
    "## 代码构建"
   ]
  },
  {
   "cell_type": "markdown",
   "metadata": {},
   "source": [
    "### 读取数据"
   ]
  },
  {
   "cell_type": "code",
   "execution_count": 3,
   "metadata": {},
   "outputs": [
    {
     "name": "stdout",
     "output_type": "stream",
     "text": [
      "Requirement already satisfied: pandas in c:\\programdata\\anaconda3\\lib\\site-packages (0.24.2)\n",
      "Requirement already satisfied: xlrd in c:\\programdata\\anaconda3\\lib\\site-packages (1.2.0)\n",
      "Requirement already satisfied: xlwt in c:\\programdata\\anaconda3\\lib\\site-packages (1.3.0)\n",
      "Requirement already satisfied: numpy>=1.12.0 in c:\\programdata\\anaconda3\\lib\\site-packages (from pandas) (1.16.2)\n",
      "Requirement already satisfied: pytz>=2011k in c:\\programdata\\anaconda3\\lib\\site-packages (from pandas) (2018.9)\n",
      "Requirement already satisfied: python-dateutil>=2.5.0 in c:\\programdata\\anaconda3\\lib\\site-packages (from pandas) (2.8.0)\n",
      "Requirement already satisfied: six>=1.5 in c:\\programdata\\anaconda3\\lib\\site-packages (from python-dateutil>=2.5.0->pandas) (1.12.0)\n"
     ]
    }
   ],
   "source": [
    "!pip install pandas xlrd xlwt"
   ]
  },
  {
   "cell_type": "markdown",
   "metadata": {},
   "source": [
    "*xlrd & xlwt 我们不会直接使用，但是 Pandas 会自动调用这两个引擎*"
   ]
  },
  {
   "cell_type": "code",
   "execution_count": 4,
   "metadata": {},
   "outputs": [],
   "source": [
    "import pandas as pd"
   ]
  },
  {
   "cell_type": "code",
   "execution_count": 7,
   "metadata": {},
   "outputs": [
    {
     "data": {
      "text/html": [
       "<div>\n",
       "<style scoped>\n",
       "    .dataframe tbody tr th:only-of-type {\n",
       "        vertical-align: middle;\n",
       "    }\n",
       "\n",
       "    .dataframe tbody tr th {\n",
       "        vertical-align: top;\n",
       "    }\n",
       "\n",
       "    .dataframe thead th {\n",
       "        text-align: right;\n",
       "    }\n",
       "</style>\n",
       "<table border=\"1\" class=\"dataframe\">\n",
       "  <thead>\n",
       "    <tr style=\"text-align: right;\">\n",
       "      <th></th>\n",
       "      <th>0</th>\n",
       "      <th>1</th>\n",
       "      <th>2</th>\n",
       "      <th>3</th>\n",
       "      <th>4</th>\n",
       "      <th>5</th>\n",
       "      <th>6</th>\n",
       "      <th>7</th>\n",
       "      <th>8</th>\n",
       "      <th>9</th>\n",
       "    </tr>\n",
       "  </thead>\n",
       "  <tbody>\n",
       "    <tr>\n",
       "      <th>0</th>\n",
       "      <td>NaN</td>\n",
       "      <td>费用报销单</td>\n",
       "      <td>NaN</td>\n",
       "      <td>NaN</td>\n",
       "      <td>NaN</td>\n",
       "      <td>NaN</td>\n",
       "      <td>NaN</td>\n",
       "      <td>NaN</td>\n",
       "      <td>NaN</td>\n",
       "      <td>NaN</td>\n",
       "    </tr>\n",
       "    <tr>\n",
       "      <th>1</th>\n",
       "      <td>NaN</td>\n",
       "      <td>事由</td>\n",
       "      <td>NaN</td>\n",
       "      <td>结算单号</td>\n",
       "      <td>NaN</td>\n",
       "      <td>付款期</td>\n",
       "      <td>开始时间</td>\n",
       "      <td>2020-02-02 00:00:00</td>\n",
       "      <td>结束时间</td>\n",
       "      <td>2020-02-12 00:00:00</td>\n",
       "    </tr>\n",
       "    <tr>\n",
       "      <th>2</th>\n",
       "      <td>NaN</td>\n",
       "      <td>员工信息</td>\n",
       "      <td>NaN</td>\n",
       "      <td>NaN</td>\n",
       "      <td>NaN</td>\n",
       "      <td>NaN</td>\n",
       "      <td>NaN</td>\n",
       "      <td>NaN</td>\n",
       "      <td>NaN</td>\n",
       "      <td>NaN</td>\n",
       "    </tr>\n",
       "    <tr>\n",
       "      <th>3</th>\n",
       "      <td>NaN</td>\n",
       "      <td>姓名</td>\n",
       "      <td>张三</td>\n",
       "      <td>职位</td>\n",
       "      <td>一级采购员</td>\n",
       "      <td>身份证</td>\n",
       "      <td>123</td>\n",
       "      <td>NaN</td>\n",
       "      <td>NaN</td>\n",
       "      <td>NaN</td>\n",
       "    </tr>\n",
       "    <tr>\n",
       "      <th>4</th>\n",
       "      <td>NaN</td>\n",
       "      <td>部门</td>\n",
       "      <td>采购部</td>\n",
       "      <td>经理</td>\n",
       "      <td>NaN</td>\n",
       "      <td>员工ID</td>\n",
       "      <td>1001</td>\n",
       "      <td>NaN</td>\n",
       "      <td>NaN</td>\n",
       "      <td>NaN</td>\n",
       "    </tr>\n",
       "    <tr>\n",
       "      <th>5</th>\n",
       "      <td>NaN</td>\n",
       "      <td>NaN</td>\n",
       "      <td>NaN</td>\n",
       "      <td>NaN</td>\n",
       "      <td>NaN</td>\n",
       "      <td>NaN</td>\n",
       "      <td>NaN</td>\n",
       "      <td>NaN</td>\n",
       "      <td>NaN</td>\n",
       "      <td>NaN</td>\n",
       "    </tr>\n",
       "    <tr>\n",
       "      <th>6</th>\n",
       "      <td>NaN</td>\n",
       "      <td>序号</td>\n",
       "      <td>日期</td>\n",
       "      <td>网络</td>\n",
       "      <td>交通</td>\n",
       "      <td>住宿</td>\n",
       "      <td>餐饮</td>\n",
       "      <td>招待</td>\n",
       "      <td>其他</td>\n",
       "      <td>合计</td>\n",
       "    </tr>\n",
       "    <tr>\n",
       "      <th>7</th>\n",
       "      <td>NaN</td>\n",
       "      <td>1</td>\n",
       "      <td>2020-02-02 00:00:00</td>\n",
       "      <td>NaN</td>\n",
       "      <td>500</td>\n",
       "      <td>200</td>\n",
       "      <td>NaN</td>\n",
       "      <td>NaN</td>\n",
       "      <td>NaN</td>\n",
       "      <td>700</td>\n",
       "    </tr>\n",
       "    <tr>\n",
       "      <th>8</th>\n",
       "      <td>NaN</td>\n",
       "      <td>2</td>\n",
       "      <td>2020-02-03 00:00:00</td>\n",
       "      <td>NaN</td>\n",
       "      <td>NaN</td>\n",
       "      <td>200</td>\n",
       "      <td>300</td>\n",
       "      <td>200</td>\n",
       "      <td>NaN</td>\n",
       "      <td>700</td>\n",
       "    </tr>\n",
       "    <tr>\n",
       "      <th>9</th>\n",
       "      <td>NaN</td>\n",
       "      <td>3</td>\n",
       "      <td>2020-02-12 00:00:00</td>\n",
       "      <td>NaN</td>\n",
       "      <td>500</td>\n",
       "      <td>NaN</td>\n",
       "      <td>NaN</td>\n",
       "      <td>NaN</td>\n",
       "      <td>NaN</td>\n",
       "      <td>500</td>\n",
       "    </tr>\n",
       "    <tr>\n",
       "      <th>10</th>\n",
       "      <td>NaN</td>\n",
       "      <td>4</td>\n",
       "      <td>NaN</td>\n",
       "      <td>NaN</td>\n",
       "      <td>NaN</td>\n",
       "      <td>NaN</td>\n",
       "      <td>NaN</td>\n",
       "      <td>NaN</td>\n",
       "      <td>NaN</td>\n",
       "      <td>NaN</td>\n",
       "    </tr>\n",
       "    <tr>\n",
       "      <th>11</th>\n",
       "      <td>NaN</td>\n",
       "      <td>5</td>\n",
       "      <td>NaN</td>\n",
       "      <td>NaN</td>\n",
       "      <td>NaN</td>\n",
       "      <td>NaN</td>\n",
       "      <td>NaN</td>\n",
       "      <td>NaN</td>\n",
       "      <td>NaN</td>\n",
       "      <td>NaN</td>\n",
       "    </tr>\n",
       "    <tr>\n",
       "      <th>12</th>\n",
       "      <td>NaN</td>\n",
       "      <td>6</td>\n",
       "      <td>NaN</td>\n",
       "      <td>NaN</td>\n",
       "      <td>NaN</td>\n",
       "      <td>NaN</td>\n",
       "      <td>NaN</td>\n",
       "      <td>NaN</td>\n",
       "      <td>NaN</td>\n",
       "      <td>NaN</td>\n",
       "    </tr>\n",
       "    <tr>\n",
       "      <th>13</th>\n",
       "      <td>NaN</td>\n",
       "      <td>7</td>\n",
       "      <td>NaN</td>\n",
       "      <td>NaN</td>\n",
       "      <td>NaN</td>\n",
       "      <td>NaN</td>\n",
       "      <td>NaN</td>\n",
       "      <td>NaN</td>\n",
       "      <td>NaN</td>\n",
       "      <td>NaN</td>\n",
       "    </tr>\n",
       "    <tr>\n",
       "      <th>14</th>\n",
       "      <td>NaN</td>\n",
       "      <td>8</td>\n",
       "      <td>NaN</td>\n",
       "      <td>NaN</td>\n",
       "      <td>NaN</td>\n",
       "      <td>NaN</td>\n",
       "      <td>NaN</td>\n",
       "      <td>NaN</td>\n",
       "      <td>NaN</td>\n",
       "      <td>NaN</td>\n",
       "    </tr>\n",
       "    <tr>\n",
       "      <th>15</th>\n",
       "      <td>NaN</td>\n",
       "      <td>9</td>\n",
       "      <td>NaN</td>\n",
       "      <td>NaN</td>\n",
       "      <td>NaN</td>\n",
       "      <td>NaN</td>\n",
       "      <td>NaN</td>\n",
       "      <td>NaN</td>\n",
       "      <td>NaN</td>\n",
       "      <td>NaN</td>\n",
       "    </tr>\n",
       "    <tr>\n",
       "      <th>16</th>\n",
       "      <td>NaN</td>\n",
       "      <td>10</td>\n",
       "      <td>NaN</td>\n",
       "      <td>NaN</td>\n",
       "      <td>NaN</td>\n",
       "      <td>NaN</td>\n",
       "      <td>NaN</td>\n",
       "      <td>NaN</td>\n",
       "      <td>NaN</td>\n",
       "      <td>NaN</td>\n",
       "    </tr>\n",
       "    <tr>\n",
       "      <th>17</th>\n",
       "      <td>NaN</td>\n",
       "      <td>11</td>\n",
       "      <td>NaN</td>\n",
       "      <td>NaN</td>\n",
       "      <td>NaN</td>\n",
       "      <td>NaN</td>\n",
       "      <td>NaN</td>\n",
       "      <td>NaN</td>\n",
       "      <td>NaN</td>\n",
       "      <td>NaN</td>\n",
       "    </tr>\n",
       "    <tr>\n",
       "      <th>18</th>\n",
       "      <td>NaN</td>\n",
       "      <td>12</td>\n",
       "      <td>NaN</td>\n",
       "      <td>NaN</td>\n",
       "      <td>NaN</td>\n",
       "      <td>NaN</td>\n",
       "      <td>NaN</td>\n",
       "      <td>NaN</td>\n",
       "      <td>NaN</td>\n",
       "      <td>NaN</td>\n",
       "    </tr>\n",
       "    <tr>\n",
       "      <th>19</th>\n",
       "      <td>NaN</td>\n",
       "      <td>13</td>\n",
       "      <td>NaN</td>\n",
       "      <td>NaN</td>\n",
       "      <td>NaN</td>\n",
       "      <td>NaN</td>\n",
       "      <td>NaN</td>\n",
       "      <td>NaN</td>\n",
       "      <td>NaN</td>\n",
       "      <td>NaN</td>\n",
       "    </tr>\n",
       "    <tr>\n",
       "      <th>20</th>\n",
       "      <td>NaN</td>\n",
       "      <td>14</td>\n",
       "      <td>NaN</td>\n",
       "      <td>NaN</td>\n",
       "      <td>NaN</td>\n",
       "      <td>NaN</td>\n",
       "      <td>NaN</td>\n",
       "      <td>NaN</td>\n",
       "      <td>NaN</td>\n",
       "      <td>NaN</td>\n",
       "    </tr>\n",
       "    <tr>\n",
       "      <th>21</th>\n",
       "      <td>NaN</td>\n",
       "      <td>15</td>\n",
       "      <td>NaN</td>\n",
       "      <td>NaN</td>\n",
       "      <td>NaN</td>\n",
       "      <td>NaN</td>\n",
       "      <td>NaN</td>\n",
       "      <td>NaN</td>\n",
       "      <td>NaN</td>\n",
       "      <td>NaN</td>\n",
       "    </tr>\n",
       "    <tr>\n",
       "      <th>22</th>\n",
       "      <td>NaN</td>\n",
       "      <td>16</td>\n",
       "      <td>NaN</td>\n",
       "      <td>NaN</td>\n",
       "      <td>NaN</td>\n",
       "      <td>NaN</td>\n",
       "      <td>NaN</td>\n",
       "      <td>NaN</td>\n",
       "      <td>NaN</td>\n",
       "      <td>NaN</td>\n",
       "    </tr>\n",
       "    <tr>\n",
       "      <th>23</th>\n",
       "      <td>NaN</td>\n",
       "      <td>17</td>\n",
       "      <td>NaN</td>\n",
       "      <td>NaN</td>\n",
       "      <td>NaN</td>\n",
       "      <td>NaN</td>\n",
       "      <td>NaN</td>\n",
       "      <td>NaN</td>\n",
       "      <td>NaN</td>\n",
       "      <td>NaN</td>\n",
       "    </tr>\n",
       "    <tr>\n",
       "      <th>24</th>\n",
       "      <td>NaN</td>\n",
       "      <td>18</td>\n",
       "      <td>NaN</td>\n",
       "      <td>NaN</td>\n",
       "      <td>NaN</td>\n",
       "      <td>NaN</td>\n",
       "      <td>NaN</td>\n",
       "      <td>NaN</td>\n",
       "      <td>NaN</td>\n",
       "      <td>NaN</td>\n",
       "    </tr>\n",
       "    <tr>\n",
       "      <th>25</th>\n",
       "      <td>NaN</td>\n",
       "      <td>19</td>\n",
       "      <td>NaN</td>\n",
       "      <td>NaN</td>\n",
       "      <td>NaN</td>\n",
       "      <td>NaN</td>\n",
       "      <td>NaN</td>\n",
       "      <td>NaN</td>\n",
       "      <td>NaN</td>\n",
       "      <td>NaN</td>\n",
       "    </tr>\n",
       "    <tr>\n",
       "      <th>26</th>\n",
       "      <td>NaN</td>\n",
       "      <td>20</td>\n",
       "      <td>NaN</td>\n",
       "      <td>NaN</td>\n",
       "      <td>NaN</td>\n",
       "      <td>NaN</td>\n",
       "      <td>NaN</td>\n",
       "      <td>NaN</td>\n",
       "      <td>NaN</td>\n",
       "      <td>NaN</td>\n",
       "    </tr>\n",
       "    <tr>\n",
       "      <th>27</th>\n",
       "      <td>NaN</td>\n",
       "      <td>21</td>\n",
       "      <td>NaN</td>\n",
       "      <td>NaN</td>\n",
       "      <td>NaN</td>\n",
       "      <td>NaN</td>\n",
       "      <td>NaN</td>\n",
       "      <td>NaN</td>\n",
       "      <td>NaN</td>\n",
       "      <td>NaN</td>\n",
       "    </tr>\n",
       "    <tr>\n",
       "      <th>28</th>\n",
       "      <td>NaN</td>\n",
       "      <td>总计</td>\n",
       "      <td>NaN</td>\n",
       "      <td>0</td>\n",
       "      <td>1000</td>\n",
       "      <td>400</td>\n",
       "      <td>300</td>\n",
       "      <td>200</td>\n",
       "      <td>0</td>\n",
       "      <td>1900</td>\n",
       "    </tr>\n",
       "  </tbody>\n",
       "</table>\n",
       "</div>"
      ],
      "text/plain": [
       "     0      1                    2     3      4     5     6  \\\n",
       "0  NaN  费用报销单                  NaN   NaN    NaN   NaN   NaN   \n",
       "1  NaN     事由                  NaN  结算单号    NaN   付款期  开始时间   \n",
       "2  NaN   员工信息                  NaN   NaN    NaN   NaN   NaN   \n",
       "3  NaN     姓名                   张三    职位  一级采购员   身份证   123   \n",
       "4  NaN     部门                  采购部    经理    NaN  员工ID  1001   \n",
       "5  NaN    NaN                  NaN   NaN    NaN   NaN   NaN   \n",
       "6  NaN     序号                   日期    网络     交通    住宿    餐饮   \n",
       "7  NaN      1  2020-02-02 00:00:00   NaN    500   200   NaN   \n",
       "8  NaN      2  2020-02-03 00:00:00   NaN    NaN   200   300   \n",
       "9  NaN      3  2020-02-12 00:00:00   NaN    500   NaN   NaN   \n",
       "10 NaN      4                  NaN   NaN    NaN   NaN   NaN   \n",
       "11 NaN      5                  NaN   NaN    NaN   NaN   NaN   \n",
       "12 NaN      6                  NaN   NaN    NaN   NaN   NaN   \n",
       "13 NaN      7                  NaN   NaN    NaN   NaN   NaN   \n",
       "14 NaN      8                  NaN   NaN    NaN   NaN   NaN   \n",
       "15 NaN      9                  NaN   NaN    NaN   NaN   NaN   \n",
       "16 NaN     10                  NaN   NaN    NaN   NaN   NaN   \n",
       "17 NaN     11                  NaN   NaN    NaN   NaN   NaN   \n",
       "18 NaN     12                  NaN   NaN    NaN   NaN   NaN   \n",
       "19 NaN     13                  NaN   NaN    NaN   NaN   NaN   \n",
       "20 NaN     14                  NaN   NaN    NaN   NaN   NaN   \n",
       "21 NaN     15                  NaN   NaN    NaN   NaN   NaN   \n",
       "22 NaN     16                  NaN   NaN    NaN   NaN   NaN   \n",
       "23 NaN     17                  NaN   NaN    NaN   NaN   NaN   \n",
       "24 NaN     18                  NaN   NaN    NaN   NaN   NaN   \n",
       "25 NaN     19                  NaN   NaN    NaN   NaN   NaN   \n",
       "26 NaN     20                  NaN   NaN    NaN   NaN   NaN   \n",
       "27 NaN     21                  NaN   NaN    NaN   NaN   NaN   \n",
       "28 NaN     总计                  NaN     0   1000   400   300   \n",
       "\n",
       "                      7     8                    9  \n",
       "0                   NaN   NaN                  NaN  \n",
       "1   2020-02-02 00:00:00  结束时间  2020-02-12 00:00:00  \n",
       "2                   NaN   NaN                  NaN  \n",
       "3                   NaN   NaN                  NaN  \n",
       "4                   NaN   NaN                  NaN  \n",
       "5                   NaN   NaN                  NaN  \n",
       "6                    招待    其他                   合计  \n",
       "7                   NaN   NaN                  700  \n",
       "8                   200   NaN                  700  \n",
       "9                   NaN   NaN                  500  \n",
       "10                  NaN   NaN                  NaN  \n",
       "11                  NaN   NaN                  NaN  \n",
       "12                  NaN   NaN                  NaN  \n",
       "13                  NaN   NaN                  NaN  \n",
       "14                  NaN   NaN                  NaN  \n",
       "15                  NaN   NaN                  NaN  \n",
       "16                  NaN   NaN                  NaN  \n",
       "17                  NaN   NaN                  NaN  \n",
       "18                  NaN   NaN                  NaN  \n",
       "19                  NaN   NaN                  NaN  \n",
       "20                  NaN   NaN                  NaN  \n",
       "21                  NaN   NaN                  NaN  \n",
       "22                  NaN   NaN                  NaN  \n",
       "23                  NaN   NaN                  NaN  \n",
       "24                  NaN   NaN                  NaN  \n",
       "25                  NaN   NaN                  NaN  \n",
       "26                  NaN   NaN                  NaN  \n",
       "27                  NaN   NaN                  NaN  \n",
       "28                  200     0                 1900  "
      ]
     },
     "execution_count": 7,
     "metadata": {},
     "output_type": "execute_result"
    }
   ],
   "source": [
    "# df = pd.read_excel('assets/automatic/001-202002.xlsx')\n",
    "df = pd.read_excel('assets/automatic/001-202002.xlsx', header=None)  # 去掉奇怪的标题\n",
    "df"
   ]
  },
  {
   "cell_type": "markdown",
   "metadata": {},
   "source": [
    "【思考】：\n",
    "\n",
    "1. 如何把 DataFrame 里面的数据取出来。  \n",
    "制订搜索关键词：\n",
    "> pandas read excel by row column index\n",
    "\n",
    "2. 总计一栏的数据位置很可能会改变，取决于前面内容的多少。  \n",
    "制订搜索关键词：\n",
    "> pandas excel search row by column value"
   ]
  },
  {
   "cell_type": "code",
   "execution_count": 10,
   "metadata": {},
   "outputs": [
    {
     "name": "stdout",
     "output_type": "stream",
     "text": [
      "员工ID： 1001\n",
      "员工姓名： 张三\n",
      "开始时间： 2020-02-02 00:00:00\n",
      "结束时间： 2020-02-12 00:00:00\n"
     ]
    }
   ],
   "source": [
    "# 试一试\n",
    "print('员工ID：', df.iloc[4, 6])\n",
    "print('员工姓名：', df.iloc[3, 2])\n",
    "print('开始时间：', df.iloc[1, 7])\n",
    "print('结束时间：', df.iloc[1, 9])"
   ]
  },
  {
   "cell_type": "markdown",
   "metadata": {},
   "source": [
    "【思考】\n",
    "\n",
    "两个时间格式是 Pandas 读取的格式，不是 Python 的时间格式"
   ]
  },
  {
   "cell_type": "code",
   "execution_count": 12,
   "metadata": {},
   "outputs": [
    {
     "data": {
      "text/plain": [
       "Timestamp('2020-02-02 00:00:00')"
      ]
     },
     "execution_count": 12,
     "metadata": {},
     "output_type": "execute_result"
    }
   ],
   "source": [
    "dftime = df.iloc[1, 7]\n",
    "dftime  # 这个是 Pandas 下面的时间类型 Timestamp，下面有其他的方法。"
   ]
  },
  {
   "cell_type": "code",
   "execution_count": 15,
   "metadata": {},
   "outputs": [
    {
     "data": {
      "text/plain": [
       "datetime.datetime(2020, 2, 2, 0, 0)"
      ]
     },
     "execution_count": 15,
     "metadata": {},
     "output_type": "execute_result"
    }
   ],
   "source": [
    "# 根据文档提供的方法，转化为 Python 的时间数据类型\n",
    "dftime = df.iloc[1, 7].to_pydatetime()\n",
    "dftime"
   ]
  },
  {
   "cell_type": "code",
   "execution_count": 17,
   "metadata": {},
   "outputs": [
    {
     "name": "stdout",
     "output_type": "stream",
     "text": [
      "员工ID： 1001\n",
      "员工姓名： 张三\n",
      "开始时间： 2020-02-02 00:00:00\n",
      "结束时间： 2020-02-12 00:00:00\n"
     ]
    }
   ],
   "source": [
    "# 修改一下\n",
    "print('员工ID：', df.iloc[4, 6])\n",
    "print('员工姓名：', df.iloc[3, 2])\n",
    "print('开始时间：', df.iloc[1, 7].to_pydatetime())\n",
    "print('结束时间：', df.iloc[1, 9].to_pydatetime())  # 时间显示还是一样的"
   ]
  },
  {
   "cell_type": "code",
   "execution_count": 18,
   "metadata": {},
   "outputs": [
    {
     "data": {
      "text/html": [
       "<div>\n",
       "<style scoped>\n",
       "    .dataframe tbody tr th:only-of-type {\n",
       "        vertical-align: middle;\n",
       "    }\n",
       "\n",
       "    .dataframe tbody tr th {\n",
       "        vertical-align: top;\n",
       "    }\n",
       "\n",
       "    .dataframe thead th {\n",
       "        text-align: right;\n",
       "    }\n",
       "</style>\n",
       "<table border=\"1\" class=\"dataframe\">\n",
       "  <thead>\n",
       "    <tr style=\"text-align: right;\">\n",
       "      <th></th>\n",
       "      <th>0</th>\n",
       "      <th>1</th>\n",
       "      <th>2</th>\n",
       "      <th>3</th>\n",
       "      <th>4</th>\n",
       "      <th>5</th>\n",
       "      <th>6</th>\n",
       "      <th>7</th>\n",
       "      <th>8</th>\n",
       "      <th>9</th>\n",
       "    </tr>\n",
       "  </thead>\n",
       "  <tbody>\n",
       "    <tr>\n",
       "      <th>28</th>\n",
       "      <td>NaN</td>\n",
       "      <td>总计</td>\n",
       "      <td>NaN</td>\n",
       "      <td>0</td>\n",
       "      <td>1000</td>\n",
       "      <td>400</td>\n",
       "      <td>300</td>\n",
       "      <td>200</td>\n",
       "      <td>0</td>\n",
       "      <td>1900</td>\n",
       "    </tr>\n",
       "  </tbody>\n",
       "</table>\n",
       "</div>"
      ],
      "text/plain": [
       "     0   1    2  3     4    5    6    7  8     9\n",
       "28 NaN  总计  NaN  0  1000  400  300  200  0  1900"
      ]
     },
     "execution_count": 18,
     "metadata": {},
     "output_type": "execute_result"
    }
   ],
   "source": [
    "# 根据关键词寻找 row\n",
    "df.loc[df[1] == '总计']  # df[1] == '总计' 会返回一系列的 True/False 的 bool；返回为 True 的 loc"
   ]
  },
  {
   "cell_type": "code",
   "execution_count": 20,
   "metadata": {},
   "outputs": [
    {
     "name": "stdout",
     "output_type": "stream",
     "text": [
      "交通费用总计： 1000\n"
     ]
    }
   ],
   "source": [
    "# 测试一下\n",
    "total_row = df.loc[df[1] == '总计']\n",
    "print('交通费用总计：', total_row.iloc[0, 4])"
   ]
  },
  {
   "cell_type": "markdown",
   "metadata": {},
   "source": [
    "【延伸深造】\n",
    "\n",
    "DataFrame 里面定位数据的方法：iloc / loc / ix"
   ]
  },
  {
   "cell_type": "markdown",
   "metadata": {},
   "source": [
    "#### 总结有用的代码"
   ]
  },
  {
   "cell_type": "code",
   "execution_count": 2,
   "metadata": {},
   "outputs": [],
   "source": [
    "import pandas as pd\n",
    "\n",
    "df = pd.read_excel('assets/automatic/001-202002.xlsx', header=None)  # 去掉奇怪的标题\n",
    "total_row = df.loc[df[1] == '总计']"
   ]
  },
  {
   "cell_type": "markdown",
   "metadata": {},
   "source": [
    "### 写入数据"
   ]
  },
  {
   "cell_type": "markdown",
   "metadata": {},
   "source": [
    "把每个员工的信息合在一起。\n",
    "\n",
    "1. 建立一个容器。选用 dict。\n",
    "2. 一个个写入"
   ]
  },
  {
   "cell_type": "code",
   "execution_count": 4,
   "metadata": {},
   "outputs": [],
   "source": [
    "row = {}\n",
    "row['员工ID'] = df.iloc[4, 6]\n",
    "row['员工姓名'] = df.iloc[3, 2]\n",
    "row['开始时间'] = df.iloc[1, 7].to_pydatetime()\n",
    "row['结束时间'] = df.iloc[1, 9].to_pydatetime()\n",
    "row['网络'] = total_row.iloc[0, 3]\n",
    "row['住宿'] = total_row.iloc[0, 4]\n",
    "row['交通'] = total_row.iloc[0, 5]\n",
    "row['餐饮'] = total_row.iloc[0, 6]\n",
    "row['招待'] = total_row.iloc[0, 7]\n",
    "row['其他'] = total_row.iloc[0, 8]\n",
    "row['总计'] = total_row.iloc[0, 9]"
   ]
  },
  {
   "cell_type": "code",
   "execution_count": 5,
   "metadata": {},
   "outputs": [
    {
     "name": "stdout",
     "output_type": "stream",
     "text": [
      "{'员工ID': 1001, '员工姓名': '张三', '开始时间': datetime.datetime(2020, 2, 2, 0, 0), '结束时间': datetime.datetime(2020, 2, 12, 0, 0), '网络': 0, '住宿': 1000, '交通': 400, '餐饮': 300, '招待': 200, '其他': 0, '总计': 1900}\n",
      "[{'员工ID': 1001, '员工姓名': '张三', '开始时间': datetime.datetime(2020, 2, 2, 0, 0), '结束时间': datetime.datetime(2020, 2, 12, 0, 0), '网络': 0, '住宿': 1000, '交通': 400, '餐饮': 300, '招待': 200, '其他': 0, '总计': 1900}]\n"
     ]
    }
   ],
   "source": [
    "print(row)\n",
    "print([row])"
   ]
  },
  {
   "cell_type": "markdown",
   "metadata": {},
   "source": [
    "接下来：\n",
    "\n",
    "怎么把 Python 的 dict 变成 Pandas 的 DataFrame。\n",
    "\n",
    "方法：把 dict 穿成 list，然后转化成 DataFrame"
   ]
  },
  {
   "cell_type": "code",
   "execution_count": 6,
   "metadata": {},
   "outputs": [
    {
     "data": {
      "text/html": [
       "<div>\n",
       "<style scoped>\n",
       "    .dataframe tbody tr th:only-of-type {\n",
       "        vertical-align: middle;\n",
       "    }\n",
       "\n",
       "    .dataframe tbody tr th {\n",
       "        vertical-align: top;\n",
       "    }\n",
       "\n",
       "    .dataframe thead th {\n",
       "        text-align: right;\n",
       "    }\n",
       "</style>\n",
       "<table border=\"1\" class=\"dataframe\">\n",
       "  <thead>\n",
       "    <tr style=\"text-align: right;\">\n",
       "      <th></th>\n",
       "      <th>员工ID</th>\n",
       "      <th>员工姓名</th>\n",
       "      <th>开始时间</th>\n",
       "      <th>结束时间</th>\n",
       "      <th>网络</th>\n",
       "      <th>住宿</th>\n",
       "      <th>交通</th>\n",
       "      <th>餐饮</th>\n",
       "      <th>招待</th>\n",
       "      <th>其他</th>\n",
       "      <th>总计</th>\n",
       "    </tr>\n",
       "  </thead>\n",
       "  <tbody>\n",
       "    <tr>\n",
       "      <th>0</th>\n",
       "      <td>1001</td>\n",
       "      <td>张三</td>\n",
       "      <td>2020-02-02</td>\n",
       "      <td>2020-02-12</td>\n",
       "      <td>0</td>\n",
       "      <td>1000</td>\n",
       "      <td>400</td>\n",
       "      <td>300</td>\n",
       "      <td>200</td>\n",
       "      <td>0</td>\n",
       "      <td>1900</td>\n",
       "    </tr>\n",
       "  </tbody>\n",
       "</table>\n",
       "</div>"
      ],
      "text/plain": [
       "   员工ID 员工姓名       开始时间       结束时间  网络    住宿   交通   餐饮   招待  其他    总计\n",
       "0  1001   张三 2020-02-02 2020-02-12   0  1000  400  300  200   0  1900"
      ]
     },
     "execution_count": 6,
     "metadata": {},
     "output_type": "execute_result"
    }
   ],
   "source": [
    "# 测试一下\n",
    "df_all = pd.DataFrame([row])[['员工ID', '员工姓名', '开始时间', '结束时间', '网络', '住宿', '交通', '餐饮', '招待', '其他', '总计']]\n",
    "# 参考：https://www.cnblogs.com/huahuayu/p/8324755.html\n",
    "# df_all = pd.DataFrame([row]).reindex(['员工ID', '员工姓名', '开始时间', '结束时间', '网络', '住宿', '交通', '餐饮', '招待', '其他', '总计'])\n",
    "df_all"
   ]
  },
  {
   "cell_type": "code",
   "execution_count": 7,
   "metadata": {},
   "outputs": [],
   "source": [
    "# 八股 的写入 code\n",
    "writer = pd.ExcelWriter('assets/automatic/All.xls', engine = 'xlwt')\n",
    "df_all.to_excel(writer)\n",
    "writer.save()"
   ]
  },
  {
   "cell_type": "markdown",
   "metadata": {},
   "source": [
    "## 访问系统文件\n",
    "\n",
    "前提知识：详见《系统文件访问_新手坑.ipynb》"
   ]
  },
  {
   "cell_type": "code",
   "execution_count": 8,
   "metadata": {},
   "outputs": [],
   "source": [
    "# 指定系统文件目录、当前工作目录（current working directory）\n",
    "CWD = './assets/automatic'  # 会使用 pathlib 进行处理"
   ]
  },
  {
   "cell_type": "code",
   "execution_count": 9,
   "metadata": {},
   "outputs": [],
   "source": [
    "from pathlib import Path"
   ]
  },
  {
   "cell_type": "code",
   "execution_count": 10,
   "metadata": {},
   "outputs": [],
   "source": [
    "# 创建路径对象\n",
    "p = Path(CWD)  # 对象实例化"
   ]
  },
  {
   "cell_type": "markdown",
   "metadata": {},
   "source": [
    "### 玩一下"
   ]
  },
  {
   "cell_type": "code",
   "execution_count": 11,
   "metadata": {},
   "outputs": [
    {
     "data": {
      "text/plain": [
       "True"
      ]
     },
     "execution_count": 11,
     "metadata": {},
     "output_type": "execute_result"
    }
   ],
   "source": [
    "p.exists()"
   ]
  },
  {
   "cell_type": "code",
   "execution_count": 12,
   "metadata": {},
   "outputs": [
    {
     "data": {
      "text/plain": [
       "True"
      ]
     },
     "execution_count": 12,
     "metadata": {},
     "output_type": "execute_result"
    }
   ],
   "source": [
    "p.is_dir()"
   ]
  },
  {
   "cell_type": "code",
   "execution_count": 14,
   "metadata": {},
   "outputs": [
    {
     "name": "stdout",
     "output_type": "stream",
     "text": [
      "assets\\automatic\n"
     ]
    }
   ],
   "source": [
    "print(p)  # 显示路径"
   ]
  },
  {
   "cell_type": "code",
   "execution_count": 15,
   "metadata": {},
   "outputs": [
    {
     "name": "stdout",
     "output_type": "stream",
     "text": [
      "<class 'pathlib.WindowsPath'>\n"
     ]
    }
   ],
   "source": [
    "print(type(p))  # 在 Windows 下面运行，会成为 WindowsPath。不同系统会不同"
   ]
  },
  {
   "cell_type": "markdown",
   "metadata": {},
   "source": [
    "### 继续代码"
   ]
  },
  {
   "cell_type": "markdown",
   "metadata": {},
   "source": [
    "#### glob 找到文件"
   ]
  },
  {
   "cell_type": "markdown",
   "metadata": {},
   "source": [
    "##### 寻找所有文件"
   ]
  },
  {
   "cell_type": "code",
   "execution_count": 16,
   "metadata": {},
   "outputs": [
    {
     "data": {
      "text/plain": [
       "<generator object Path.glob at 0x0000024E8EC34048>"
      ]
     },
     "execution_count": 16,
     "metadata": {},
     "output_type": "execute_result"
    }
   ],
   "source": [
    "p.glob('*')"
   ]
  },
  {
   "cell_type": "code",
   "execution_count": 17,
   "metadata": {},
   "outputs": [
    {
     "data": {
      "text/plain": [
       "[WindowsPath('assets/automatic/001-202002.xlsx'),\n",
       " WindowsPath('assets/automatic/002-202002.xlsx'),\n",
       " WindowsPath('assets/automatic/003-202002.xlsx'),\n",
       " WindowsPath('assets/automatic/All.xls')]"
      ]
     },
     "execution_count": 17,
     "metadata": {},
     "output_type": "execute_result"
    }
   ],
   "source": [
    "list(p.glob('*'))  # 把 generator 的内容展示出来"
   ]
  },
  {
   "cell_type": "markdown",
   "metadata": {},
   "source": [
    "##### 制订目标 RE"
   ]
  },
  {
   "cell_type": "code",
   "execution_count": 19,
   "metadata": {},
   "outputs": [
    {
     "data": {
      "text/plain": [
       "[WindowsPath('assets/automatic/001-202002.xlsx'),\n",
       " WindowsPath('assets/automatic/002-202002.xlsx'),\n",
       " WindowsPath('assets/automatic/003-202002.xlsx')]"
      ]
     },
     "execution_count": 19,
     "metadata": {},
     "output_type": "execute_result"
    }
   ],
   "source": [
    "list(p.glob('**/[!All]*.xlsx'))\n",
    "# **/ 代表忽略所有前面的层级目录"
   ]
  },
  {
   "cell_type": "markdown",
   "metadata": {},
   "source": [
    "#### 找到文件的名字"
   ]
  },
  {
   "cell_type": "code",
   "execution_count": 20,
   "metadata": {},
   "outputs": [
    {
     "name": "stdout",
     "output_type": "stream",
     "text": [
      "001-202002.xlsx\n",
      "002-202002.xlsx\n",
      "003-202002.xlsx\n"
     ]
    }
   ],
   "source": [
    "for q in p.glob('**/[!All]*.xlsx'):\n",
    "    print(q.name)"
   ]
  },
  {
   "cell_type": "markdown",
   "metadata": {},
   "source": [
    "#### 替换功能\n",
    "\n",
    "把 ```print(q.name)``` 的代码，使用前面实现的数据筛选代码替换。就可以实现文件的循环执行。"
   ]
  },
  {
   "cell_type": "markdown",
   "metadata": {},
   "source": [
    "## 邮件发送\n",
    "\n",
    "“邮件收发”是网络的第一个功能。\n",
    "\n",
    "需要的协议：smtp。Python 里面有 smtplib 的库进行实现，相当于现实世界里面的邮局、快递员。\n",
    "\n",
    "email 制订邮件内容，相当于信纸。\n",
    "\n",
    "邮件服务器，进行投递。选择：1.单位学校的邮箱服务；2.gmail 等；3.专用的服务应用，比如 SendGrid、Mailgun、AWS SES等等。\n",
    "\n",
    "smtplib 发送 email 需要用到服务器的 SMTP Server / port / username / passwd "
   ]
  },
  {
   "cell_type": "code",
   "execution_count": 21,
   "metadata": {},
   "outputs": [],
   "source": [
    "# 八股 code\n",
    "import smtplib\n",
    "import ssl\n",
    "from email.mime.multipart import MIMEMultipart\n",
    "from email.mime.base import MIMEBase\n",
    "from email.mime.text import MIMEText\n",
    "from email.utils import formatdate\n",
    "from email import encoders\n",
    "\n",
    "def send_mail(send_from, send_to, subject, text, file_path, server, port, username='', paasword='', tls=True):\n",
    "    msg = MIMEMultipart()\n",
    "    mag['From'] = send_from\n",
    "    msg['to'] = send_to\n",
    "    msg['Date'] = formatdate(localtime = True)\n",
    "    msg['Subject'] = subject\n",
    "    msg.attach(MIMEText(text))\n",
    "    \n",
    "    part = MEMEBase('application', 'octet-stream')  # 如果加载的内容是 二进制 文件，就这么写\n",
    "    part.set_payload(open(file_path, 'rb').read())  # set_payload 说明二进制文件哪里来\n",
    "    encoders.encode_base64(part)  # 把二进制内容 使用base64编码方式 编码成字符串\n",
    "    part.add_header('Content-Disposition', f'attachment; filename=\"{file_path.name}\"')  # 如果没有这行，收到的邮件的名字是乱码的\n",
    "    msg.attach(part)\n",
    "    \n",
    "    smtp = smtplib.SMTP(server, port)  # 创建对象\n",
    "    if tls:\n",
    "        smtp.starttls()\n",
    "        \n",
    "    smtp.login(username, password)\n",
    "    smtp.sendmail(send_from, send_to, msg.as_string())  # 根据 msg 内容编码成 string 发送出去\n",
    "    smtp.quit()"
   ]
  },
  {
   "cell_type": "markdown",
   "metadata": {},
   "source": [
    "## 合并所有模块 code"
   ]
  },
  {
   "cell_type": "markdown",
   "metadata": {},
   "source": [
    "### 抄写"
   ]
  },
  {
   "cell_type": "code",
   "execution_count": 1,
   "metadata": {},
   "outputs": [],
   "source": [
    "import pandas as pd\n",
    "\n",
    "import smtplib\n",
    "import ssl\n",
    "from email.mime.multipart import MIMEMultipart\n",
    "from email.mime.base import MIMEBase\n",
    "from email.mime.text import MIMEText\n",
    "from email.utils import formatdate\n",
    "from email import encoders\n",
    "\n",
    "from pathlib import Path"
   ]
  },
  {
   "cell_type": "code",
   "execution_count": 22,
   "metadata": {},
   "outputs": [],
   "source": [
    "def read_excel_data(path):\n",
    "    df = pd.read_excel(path, header=None)\n",
    "    row = {}\n",
    "    total_row = df.loc[df[1] == '总计']\n",
    "    row['员工ID'] = df.iloc[4, 6]\n",
    "    row['员工姓名'] = df.iloc[3, 2]\n",
    "    row['开始时间'] = df.iloc[1, 7].to_pydatetime()\n",
    "    row['结束时间'] = df.iloc[1, 9].to_pydatetime()\n",
    "    row['网络'] = total_row.iloc[0, 3]\n",
    "    row['住宿'] = total_row.iloc[0, 4]\n",
    "    row['交通'] = total_row.iloc[0, 5]\n",
    "    row['餐饮'] = total_row.iloc[0, 6]\n",
    "    row['招待'] = total_row.iloc[0, 7]\n",
    "    row['其他'] = total_row.iloc[0, 8]\n",
    "    row['总计'] = total_row.iloc[0, 9]\n",
    "    return row\n",
    "    \n",
    "def send_mail(send_from, send_to, subject, text, file_path, server, port, username='', password='', tls=True):\n",
    "    msg = MIMEMultipart()\n",
    "    msg['From'] = send_from\n",
    "    msg['to'] = send_to\n",
    "    msg['Date'] = formatdate(localtime = True)\n",
    "    msg['Subject'] = subject\n",
    "    msg.attach(MIMEText(text))\n",
    "    \n",
    "    part = MIMEBase('application', 'octet-stream')  # 如果加载的内容是 二进制 文件，就这么写\n",
    "    part.set_payload(open(file_path, 'rb').read())  # set_payload 说明二进制文件哪里来\n",
    "    encoders.encode_base64(part)  # 把二进制内容 使用base64编码方式 编码成字符串\n",
    "    part.add_header('Content-Disposition', f'attachment; filename=\"{file_path.name}\"')  # 如果没有这行，收到的邮件的名字是乱码的\n",
    "    msg.attach(part)\n",
    "    \n",
    "    smtp = smtplib.SMTP(server, port)  # 创建对象\n",
    "    if tls:\n",
    "        smtp.starttls()\n",
    "        \n",
    "    smtp.login(username, password)\n",
    "    smtp.sendmail(send_from, send_to, msg.as_string())  # 根据 msg 内容编码成 string 发送出去\n",
    "    smtp.quit()\n",
    "    \n",
    "def main():\n",
    "    CWD = './assets/automatic'\n",
    "    SEND_FROM = 'yeraymound@sina.com'\n",
    "    SEND_TO = '2029757772@qq.com'\n",
    "    SMTP_SERVER = 'smtp.mailgun.org'\n",
    "    SMTP_PORT = 587\n",
    "    SMTP_USERNAME = 'postmaster@sandbox23aef3d6afaf41b08fece79d6e0d2a5c.mailgun.org'\n",
    "    SMTP_PASSWORD = '659b0781d2edf408ce43705cc88be4f6-ee13fadb-f8688740'\n",
    "    \n",
    "    p = Path(CWD)\n",
    "    rows = []\n",
    "    for q in p.glob('**/[!All]*.xlsx'):\n",
    "        rows.append(read_excel_data(q))\n",
    "    df = pd.DataFrame(rows)\n",
    "    writer = pd.ExcelWriter(p / 'All.xls', engine='xlwt')\n",
    "    df.to_excel(writer)\n",
    "    writer.save()\n",
    "    \n",
    "    send_mail(SEND_FROM, SEND_TO, '每月费用报销汇总表', '请查看附件表格。', p / 'All.xls', SMTP_SERVER, SMTP_PORT, username=SMTP_USERNAME,\n",
    "             password=SMTP_PASSWORD)\n",
    "    \n",
    "if __name__ == '__main__':\n",
    "    main()"
   ]
  },
  {
   "cell_type": "code",
   "execution_count": null,
   "metadata": {},
   "outputs": [],
   "source": []
  },
  {
   "cell_type": "code",
   "execution_count": null,
   "metadata": {},
   "outputs": [],
   "source": []
  },
  {
   "cell_type": "code",
   "execution_count": null,
   "metadata": {},
   "outputs": [],
   "source": []
  },
  {
   "cell_type": "code",
   "execution_count": null,
   "metadata": {},
   "outputs": [],
   "source": []
  },
  {
   "cell_type": "code",
   "execution_count": null,
   "metadata": {},
   "outputs": [],
   "source": []
  },
  {
   "cell_type": "code",
   "execution_count": null,
   "metadata": {},
   "outputs": [],
   "source": []
  },
  {
   "cell_type": "code",
   "execution_count": null,
   "metadata": {},
   "outputs": [],
   "source": []
  }
 ],
 "metadata": {
  "kernelspec": {
   "display_name": "python3.7.1",
   "language": "python",
   "name": "python3.7.1"
  },
  "language_info": {
   "codemirror_mode": {
    "name": "ipython",
    "version": 3
   },
   "file_extension": ".py",
   "mimetype": "text/x-python",
   "name": "python",
   "nbconvert_exporter": "python",
   "pygments_lexer": "ipython3",
   "version": "3.7.1"
  }
 },
 "nbformat": 4,
 "nbformat_minor": 2
}
